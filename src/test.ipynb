{
 "cells": [
  {
   "cell_type": "code",
   "execution_count": null,
   "metadata": {},
   "outputs": [],
   "source": [
    "from soco import discover\n",
    "for zone in discover():\n",
    "    print(zone.player_name)"
   ]
  },
  {
   "cell_type": "code",
   "execution_count": null,
   "metadata": {},
   "outputs": [],
   "source": [
    "zone.player_name\n",
    "zone.ip_address"
   ]
  },
  {
   "cell_type": "code",
   "execution_count": null,
   "metadata": {},
   "outputs": [],
   "source": [
    "#!/usr/bin/env python\n",
    "from soco import SoCo\n",
    "\n",
    "if __name__ == '__main__':\n",
    "    sonos = SoCo('192.168.4.29') # Pass in the IP of your Sonos speaker\n",
    "    # You could use the discover function instead, if you don't know the IP\n",
    "\n",
    "    # Pass in a URI to a media file to have it streamed through the Sonos\n",
    "    # speaker\n",
    "    sonos.play_uri(\n",
    "        'http://ia801402.us.archive.org/20/items/TenD2005-07-16.flac16/TenD2005-07-16t10Wonderboy.mp3')\n",
    "\n",
    "    track = sonos.get_current_track_info()\n",
    "\n",
    "    print(track['title'])\n",
    "\n",
    "    sonos.set_relative_volume(+10)\n",
    "\n",
    "    sonos.pause()\n",
    "\n",
    "    # Play a stopped or paused track\n",
    "    sonos.play()"
   ]
  },
  {
   "cell_type": "code",
   "execution_count": 21,
   "metadata": {},
   "outputs": [],
   "source": [
    "sonos.pause()"
   ]
  },
  {
   "cell_type": "code",
   "execution_count": null,
   "metadata": {},
   "outputs": [],
   "source": []
  },
  {
   "cell_type": "code",
   "execution_count": 2,
   "metadata": {},
   "outputs": [],
   "source": []
  },
  {
   "cell_type": "code",
   "execution_count": 1,
   "metadata": {},
   "outputs": [],
   "source": [
    "# Replace these with your actual device's credentials\n",
    "import libdyson\n",
    "DEVICE_SERIAL = \"X3V-US-SJA3576A\"\n",
    "DEVICE_CREDENTIAL = \"lQn4sr9iuUkCivIaQYsp2n00AD3rTOHL1MwFz35xbm+yeQZ+lCEUvmvSz/3SSkeYCHvb9nb99TSib4CaHksHhg==\"\n",
    "# DEVICE_IP = \"your-dyson-ip\"\n",
    "DEVICE_IP = \"192.168.4.26\"\n",
    "\n",
    "# Connect to the device\n",
    "# device = libdyson.DysonPureHotCoolLink(serial=DEVICE_SERIAL, credential=DEVICE_CREDENTIAL, device_type=libdyson.DEVICE_TYPE_PURIFIER_HOT_COOL_K)\n",
    "device = libdyson.DysonPurifierHumidifyCool(serial=DEVICE_SERIAL, credential=DEVICE_CREDENTIAL, device_type=libdyson.DEVICE_TYPE_PURIFIER_HOT_COOL_K)\n"
   ]
  },
  {
   "cell_type": "code",
   "execution_count": 2,
   "metadata": {},
   "outputs": [
    {
     "name": "stdout",
     "output_type": "stream",
     "text": [
      "{\"msg\": \"STATE-SET\", \"time\": \"2025-01-19T03:56:43Z\", \"mode-reason\": \"LAPP\", \"data\": {\"fpwr\": \"ON\"}}\n"
     ]
    }
   ],
   "source": [
    "\n",
    "# device.\n",
    "device.connect(DEVICE_IP)\n",
    "\n",
    "# Turn on the fan\n",
    "device.turn_on()\n",
    "\n",
    "\n",
    "# device.disconnect()"
   ]
  },
  {
   "cell_type": "code",
   "execution_count": 5,
   "metadata": {},
   "outputs": [
    {
     "name": "stdout",
     "output_type": "stream",
     "text": [
      "{\"msg\": \"STATE-SET\", \"time\": \"2025-01-19T04:00:04Z\", \"mode-reason\": \"LAPP\", \"data\": {\"oson\": \"ON\", \"fpwr\": \"ON\", \"ancp\": \"0090\"}}\n"
     ]
    }
   ],
   "source": [
    "device.enable_oscillation(libdyson.HumidifyOscillationMode.DEGREE_90)"
   ]
  },
  {
   "cell_type": "code",
   "execution_count": 6,
   "metadata": {},
   "outputs": [
    {
     "name": "stdout",
     "output_type": "stream",
     "text": [
      "{\"msg\": \"STATE-SET\", \"time\": \"2025-01-19T04:00:12Z\", \"mode-reason\": \"LAPP\", \"data\": {\"fpwr\": \"OFF\"}}\n"
     ]
    }
   ],
   "source": [
    "device.turn_off()"
   ]
  }
 ],
 "metadata": {
  "kernelspec": {
   "display_name": "raspi-haunt-pwRE-82Y-py3.10",
   "language": "python",
   "name": "python3"
  },
  "language_info": {
   "codemirror_mode": {
    "name": "ipython",
    "version": 3
   },
   "file_extension": ".py",
   "mimetype": "text/x-python",
   "name": "python",
   "nbconvert_exporter": "python",
   "pygments_lexer": "ipython3",
   "version": "3.10.11"
  }
 },
 "nbformat": 4,
 "nbformat_minor": 2
}
